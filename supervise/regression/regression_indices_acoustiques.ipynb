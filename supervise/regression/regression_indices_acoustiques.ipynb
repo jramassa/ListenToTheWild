{
  "nbformat": 4,
  "nbformat_minor": 0,
  "metadata": {
    "colab": {
      "provenance": []
    },
    "kernelspec": {
      "name": "python3",
      "display_name": "Python 3"
    },
    "language_info": {
      "name": "python"
    }
  },
  "cells": [
    {
      "cell_type": "code",
      "execution_count": null,
      "metadata": {
        "id": "-KZTFxNrn_XP"
      },
      "outputs": [],
      "source": [
        "# Importation des bibliothèques\n",
        "import pandas as pd\n",
        "from sklearn.model_selection import train_test_split\n",
        "from sklearn.linear_model import LinearRegression, LogisticRegression, Ridge, Lasso\n",
        "from sklearn.metrics import mean_squared_error"
      ]
    },
    {
      "cell_type": "code",
      "source": [
        "# Préparer la donnée\n",
        "df = pd.read_csv('/content/concatenated_acoustic_indices.csv')\n",
        "\n",
        "# Ne garder que les valeurs numériques\n",
        "df_layer1 = df.drop(['file_name', 'station_name'], axis = 1)\n",
        "\n",
        "# Choisir les données en entrée et en sortie\n",
        "X = df_layer1[['LEQt', 'ZCR', 'BGNt', 'SKEWf', 'H_Havrda', 'KURTf']]\n",
        "Y = df_layer1['MEANt']\n",
        "\n",
        "# Séparer la donnée\n",
        "X_train, X_test, Y_train, Y_test = train_test_split(X, Y, test_size=0.2)"
      ],
      "metadata": {
        "id": "-0O501VAoa86"
      },
      "execution_count": null,
      "outputs": []
    },
    {
      "cell_type": "markdown",
      "source": [
        "# Régression linéaire"
      ],
      "metadata": {
        "id": "tokkfkCtJN_x"
      }
    },
    {
      "cell_type": "code",
      "source": [
        "# modèle de régression linéaire\n",
        "model_regression = LinearRegression()\n",
        "\n",
        "# Entraîner le modèle\n",
        "model_regression.fit(X_train, Y_train)\n",
        "\n",
        "# Faire la prédiction\n",
        "Y_pred = model_regression.predict(X_test)\n",
        "\n",
        "# Evaluer le modèle\n",
        "mse = mean_squared_error(Y_test, Y_pred)\n",
        "print(\"Mean Squared Error:\", mse)\n",
        "\n",
        "# Aficher les prédicteurs de tests\n",
        "print(X_test)\n",
        "\n",
        "# Afficher les valeurs prédites\n",
        "print(Y_pred)"
      ],
      "metadata": {
        "colab": {
          "base_uri": "https://localhost:8080/"
        },
        "id": "2aI0k6h8KEKr",
        "outputId": "79229ada-b3ea-461e-cd69-13c5cb9d6ea1"
      },
      "execution_count": null,
      "outputs": [
        {
          "output_type": "stream",
          "name": "stdout",
          "text": [
            "Mean Squared Error: 0.00017673668477945464\n",
            "            LEQt          ZCR       BGNt     SKEWf  H_Havrda      KURTf\n",
            "628    50.118041  5115.016667 -34.161243  3.325638  0.332862  19.310411\n",
            "21931  65.668473   654.716667 -21.485445  5.983017  0.330386  43.150840\n",
            "18538  53.712101  2116.366667 -30.011303  1.685708  0.333276   4.963899\n",
            "17553  53.966880  1007.450000 -30.296051  3.163979  0.333016  13.012567\n",
            "26848  37.328050   289.750000 -49.602592  3.959614  0.333165  22.925493\n",
            "...          ...          ...        ...       ...       ...        ...\n",
            "15616  44.853139  1510.233333 -38.916940  2.215356  0.333233   7.101987\n",
            "26455  39.630685   874.633333 -46.055965  2.878050  0.333131  12.371463\n",
            "3864   44.488034  1070.466667 -40.023884  2.642273  0.333151   9.692205\n",
            "17620  60.007739  1275.400000 -24.045155  2.369880  0.333216   7.439109\n",
            "10076  55.558858  3280.016667 -27.672330  1.201694  0.333315   3.072065\n",
            "\n",
            "[6110 rows x 6 columns]\n",
            "[ 0.01253766 -0.0135826  -0.00610303 ... -0.00164498 -0.01158075\n",
            " -0.00364947]\n"
          ]
        }
      ]
    },
    {
      "cell_type": "markdown",
      "source": [
        "# Régression Ridge"
      ],
      "metadata": {
        "id": "XCdc-v65Q5Bw"
      }
    },
    {
      "cell_type": "code",
      "source": [
        "# modèle de régression linéaire\n",
        "model_ridge = Ridge()\n",
        "\n",
        "# Entraîner le modèle\n",
        "model_ridge.fit(X_train, Y_train)\n",
        "\n",
        "# Faire la prédiction\n",
        "Y_pred = model_ridge.predict(X_test)\n",
        "\n",
        "# Evaluer le modèle\n",
        "mse = mean_squared_error(Y_test, Y_pred)\n",
        "print(\"Mean Squared Error:\", mse)\n",
        "\n",
        "# Aficher les prédicteurs de tests\n",
        "print(X_test)\n",
        "\n",
        "# Afficher les valeurs prédites\n",
        "print(Y_pred)"
      ],
      "metadata": {
        "colab": {
          "base_uri": "https://localhost:8080/"
        },
        "id": "b03Ly2qUQ9Pk",
        "outputId": "162839cd-870b-4486-b525-e4805580831a"
      },
      "execution_count": null,
      "outputs": [
        {
          "output_type": "stream",
          "name": "stdout",
          "text": [
            "Mean Squared Error: 0.00018079496457770408\n",
            "            LEQt          ZCR       BGNt     SKEWf  H_Havrda      KURTf\n",
            "628    50.118041  5115.016667 -34.161243  3.325638  0.332862  19.310411\n",
            "21931  65.668473   654.716667 -21.485445  5.983017  0.330386  43.150840\n",
            "18538  53.712101  2116.366667 -30.011303  1.685708  0.333276   4.963899\n",
            "17553  53.966880  1007.450000 -30.296051  3.163979  0.333016  13.012567\n",
            "26848  37.328050   289.750000 -49.602592  3.959614  0.333165  22.925493\n",
            "...          ...          ...        ...       ...       ...        ...\n",
            "15616  44.853139  1510.233333 -38.916940  2.215356  0.333233   7.101987\n",
            "26455  39.630685   874.633333 -46.055965  2.878050  0.333131  12.371463\n",
            "3864   44.488034  1070.466667 -40.023884  2.642273  0.333151   9.692205\n",
            "17620  60.007739  1275.400000 -24.045155  2.369880  0.333216   7.439109\n",
            "10076  55.558858  3280.016667 -27.672330  1.201694  0.333315   3.072065\n",
            "\n",
            "[6110 rows x 6 columns]\n",
            "[ 0.01207453 -0.01305792 -0.00668422 ... -0.0023003  -0.01224655\n",
            " -0.00435884]\n"
          ]
        }
      ]
    },
    {
      "cell_type": "markdown",
      "source": [
        "# Régression Lasso"
      ],
      "metadata": {
        "id": "1c4TsTQISdjE"
      }
    },
    {
      "cell_type": "code",
      "source": [
        "# modèle de régression linéaire\n",
        "model_lasso = Lasso()\n",
        "\n",
        "# Entraîner le modèle\n",
        "model_lasso.fit(X_train, Y_train)\n",
        "\n",
        "# Faire la prédiction\n",
        "Y_pred = model_lasso.predict(X_test)\n",
        "\n",
        "# Evaluer le modèle\n",
        "mse = mean_squared_error(Y_test, Y_pred)\n",
        "print(\"Mean Squared Error:\", mse)\n",
        "\n",
        "# Aficher les prédicteurs de tests\n",
        "print(X_test)\n",
        "\n",
        "# Afficher les valeurs prédites\n",
        "print(Y_pred)"
      ],
      "metadata": {
        "colab": {
          "base_uri": "https://localhost:8080/"
        },
        "id": "VQKxSuWbShtT",
        "outputId": "5ee55bb4-1494-464f-f510-ed7998ee6a04"
      },
      "execution_count": null,
      "outputs": [
        {
          "output_type": "stream",
          "name": "stdout",
          "text": [
            "Mean Squared Error: 0.00024140759243703486\n",
            "            LEQt          ZCR       BGNt     SKEWf  H_Havrda      KURTf\n",
            "628    50.118041  5115.016667 -34.161243  3.325638  0.332862  19.310411\n",
            "21931  65.668473   654.716667 -21.485445  5.983017  0.330386  43.150840\n",
            "18538  53.712101  2116.366667 -30.011303  1.685708  0.333276   4.963899\n",
            "17553  53.966880  1007.450000 -30.296051  3.163979  0.333016  13.012567\n",
            "26848  37.328050   289.750000 -49.602592  3.959614  0.333165  22.925493\n",
            "...          ...          ...        ...       ...       ...        ...\n",
            "15616  44.853139  1510.233333 -38.916940  2.215356  0.333233   7.101987\n",
            "26455  39.630685   874.633333 -46.055965  2.878050  0.333131  12.371463\n",
            "3864   44.488034  1070.466667 -40.023884  2.642273  0.333151   9.692205\n",
            "17620  60.007739  1275.400000 -24.045155  2.369880  0.333216   7.439109\n",
            "10076  55.558858  3280.016667 -27.672330  1.201694  0.333315   3.072065\n",
            "\n",
            "[6110 rows x 6 columns]\n",
            "[ 0.00546301 -0.00597577 -0.00222725 ... -0.00490954 -0.00438398\n",
            "  0.00075702]\n"
          ]
        }
      ]
    }
  ]
}